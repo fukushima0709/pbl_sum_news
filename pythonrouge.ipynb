{
  "nbformat": 4,
  "nbformat_minor": 0,
  "metadata": {
    "colab": {
      "provenance": []
    },
    "kernelspec": {
      "name": "python3",
      "display_name": "Python 3"
    },
    "language_info": {
      "name": "python"
    }
  },
  "cells": [
    {
      "cell_type": "code",
      "execution_count": null,
      "metadata": {
        "colab": {
          "base_uri": "https://localhost:8080/"
        },
        "id": "oiAWcqeOAnMZ",
        "outputId": "d28d69f7-976e-4741-d39c-6af427594000"
      },
      "outputs": [
        {
          "output_type": "stream",
          "name": "stdout",
          "text": [
            "Collecting git+https://github.com/tagucci/pythonrouge.git\n",
            "  Cloning https://github.com/tagucci/pythonrouge.git to /tmp/pip-req-build-p2r706n8\n",
            "  Running command git clone --filter=blob:none --quiet https://github.com/tagucci/pythonrouge.git /tmp/pip-req-build-p2r706n8\n",
            "  Resolved https://github.com/tagucci/pythonrouge.git to commit 0f1603dbc089ecb0fb40fdd3a28576e9f3d36769\n",
            "  Preparing metadata (setup.py) ... \u001b[?25l\u001b[?25hdone\n",
            "Requirement already satisfied: janome in /usr/local/lib/python3.10/dist-packages (0.5.0)\n"
          ]
        }
      ],
      "source": [
        "! pip install git+https://github.com/tagucci/pythonrouge.git\n",
        "! pip install janome"
      ]
    },
    {
      "cell_type": "code",
      "source": [
        "!apt-get install -y cpanminus\n",
        "!cpanm --force XML::Parser"
      ],
      "metadata": {
        "colab": {
          "base_uri": "https://localhost:8080/"
        },
        "id": "iBTO5AB8Z8BQ",
        "outputId": "a81208a4-7336-4388-b1c3-006b38f06161"
      },
      "execution_count": null,
      "outputs": [
        {
          "output_type": "stream",
          "name": "stdout",
          "text": [
            "Reading package lists... Done\n",
            "Building dependency tree... Done\n",
            "Reading state information... Done\n",
            "cpanminus is already the newest version (1.7045-1).\n",
            "0 upgraded, 0 newly installed, 0 to remove and 24 not upgraded.\n",
            "--> Working on XML::Parser\n",
            "Fetching http://www.cpan.org/authors/id/T/TO/TODDR/XML-Parser-2.46.tar.gz ... OK\n",
            "Configuring XML-Parser-2.46 ... OK\n",
            "Building and testing XML-Parser-2.46 ... OK\n",
            "Successfully reinstalled XML-Parser-2.46\n",
            "1 distribution installed\n"
          ]
        }
      ]
    },
    {
      "cell_type": "code",
      "source": [
        "from __future__ import print_function\n",
        "from collections import defaultdict\n",
        "from pythonrouge.pythonrouge import Pythonrouge\n",
        "from pprint import pprint\n",
        "from janome.tokenizer import Tokenizer\n",
        "\n",
        "def word2ids(summary, reference):\n",
        "    id_dict = defaultdict(lambda: len(id_dict))\n",
        "    summary = [[[' '.join([str(id_dict[w]) for w in sent.split()])\n",
        "                   for sent in doc] for doc in refs] for refs in summary]\n",
        "    reference = [[[' '.join([str(id_dict[w]) for w in sent.split()])\n",
        "                   for sent in doc] for doc in refs] for refs in reference]\n",
        "    return summary, reference\n",
        "\n",
        "def tokenize_sentences(sentences):\n",
        "    tokenizer = Tokenizer()\n",
        "    return [' '.join(token.surface for token in tokenizer.tokenize(sentence)) for sentence in sentences]\n",
        "\n",
        "if __name__ == '__main__':\n",
        "    # ファイルからデータを読み込んでjanomeを使用して単語分割し、要約と参照要約に格納する\n",
        "    with open('/content/generated.txt', mode='r', encoding='utf-8') as f:\n",
        "        summary_lines = f.readlines()\n",
        "        summary = []\n",
        "        for line in summary_lines:\n",
        "            summary.append([tokenize_sentences(sent.split(' ')) for sent in line.split('。') if sent.strip()])\n",
        "\n",
        "    with open('/content/test.txt', mode='r', encoding='utf-8') as f:\n",
        "        reference_lines = f.readlines()\n",
        "        reference = []\n",
        "        for line in reference_lines:\n",
        "            reference.append([tokenize_sentences(sent.split(' ')) for sent in line.split('。') if sent.strip()])\n",
        "\n",
        "    summary, reference = word2ids(summary, reference)\n",
        "    rouge = Pythonrouge(summary_file_exist=False,\n",
        "                        summary=summary, reference=reference,\n",
        "                        n_gram=2, ROUGE_SU4=False, ROUGE_L=True,\n",
        "                        recall_only=True)\n",
        "    score = rouge.calc_score()\n",
        "\n",
        "    # 結果の出力\n",
        "    pprint(score)"
      ],
      "metadata": {
        "colab": {
          "base_uri": "https://localhost:8080/"
        },
        "id": "AaCv0d0Xw9BS",
        "outputId": "8a8f1b0b-b35e-4ddf-95f9-ed44c2267b0f"
      },
      "execution_count": null,
      "outputs": [
        {
          "output_type": "stream",
          "name": "stdout",
          "text": [
            "{'ROUGE-1': 0.61334, 'ROUGE-2': 0.30815, 'ROUGE-L': 0.51927}\n"
          ]
        }
      ]
    }
  ]
}